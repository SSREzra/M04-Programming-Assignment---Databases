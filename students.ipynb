import sqlite3

connection = sqlite3.connect("StudentDB.db")
cursor = connection.cursor()

cursor.executescript("""
                        CREATE TABLE IF NOT EXISTS StudentTable(
                        StudentID TEXT PRIMARY KEY,
                        StudentSurname TEXT,
                        StudentOthernames TEXT,
                        Email TEXT,
                        ProgramID TEXT
                        );
                        CREATE TABLE IF NOT EXISTS ProgramTable(
                        ProgramID TEXT PRIMARY KEY,
                        ProgramName TEXT,
                        DepartmentID TEXT 
                        );
                        CREATE TABLE IF NOT EXISTS DepartmentTable(
                        DepartmentID TEXT PRIMARY KEY,
                        DepartmentName TEXT,
                        Building TEXT
                        );
                        CREATE TABLE IF NOT EXISTS Course_Faculty(
                        CourseID TEXT,
                        FacultyID TEXT
                        );
                        CREATE TABLE IF NOT EXISTS CourseTable(
                        CourseID TEXT PRIMARY KEY,
                        CourseName TEXT
                        );
                        CREATE TABLE IF NOT EXISTS FacultyTable(
                        FacultyID TEXT PRIMARY KEY,
                        Surname TEXT,
                        Othernames TEXT,
                        HireDate TEXT,
                        FacultyType TEXT,
                        DepartmentID TEXT)
                        """)

cursor.executescript("""INSERT INTO StudentTable(StudentID, StudentSurname,
                     StudentOthernames, Email, ProgramID)VALUES
                     ('S001','Doe','John','johndoe@ivytech.edu','P001'),
                     ('S002','Doe','Jane','janedoe@ivytech.edu','P001'),
                     ('S003','Darwin','Charles','charlesdarwin@ivytech.edu','P002'),
                     ('S004','Turing','Alan','alanturing@ivytech.edu','P002'),
                     ('S005','Einstein','Albert','aeinstein@ivytech.edu','P003');
                     
                     INSERT INTO ProgramTable(ProgramID, ProgramName,
                     DepartmentID)VALUES
                     ('P001','Architecture','D001'),
                     ('P002','Computer Science','D002'),
                     ('P003','Journalism','D003'),
                     ('P004','Public Administration','D003');
                     
                     INSERT INTO DepartmentTable(DepartmentID, DepartmentName,
                     Building)VALUES
                     ('D001','Department of Land and Building Environment','Building 1'),
                     ('D002','Department of Information Technology','Building 2'),
                     ('D003','Department of Arts','Building 3');


                     INSERT INTO CourseTable(CourseID, CourseName)VALUES
                     ('C001','Software Development - Python'),
                     ('C002','Intro to Questioning'),
                     ('C003','Databases'),
                     ('C004','Buildings from the 18th Century'),
                     ('C005','Puplic Speaking'),
                     ('C006','Writing Interview Questions'),
                     ('C007','Data Structures and Algorithms'),
                     ('C008','Document Formatting');

                     INSERT INTO FacultyTable(FacultyID, Surname, Othernames, HireDate,
                     FacultyType, DepartmentID)VALUES
                     ('F001','Neutron', 'Jimmy', '20200515','Instructor','D002'),
                     ('F002','Squarepants', 'Spongebob', '20210615','Dean','D001'),
                     ('F003','Snikett', 'Lemony', '19950518','Instructor','D002'),
                     ('F004','Bale', 'Gareth', '20170810','Instructor','D003'),
                     ('F005','Lennon', 'Aaron', '20000112','Instructor','D001'),
                     ('F006','Carrick', 'Michael', '20032505','Instructor','D001'),
                     ('F007','Scholes', 'Paul', '20230805','Instructor','D003');

                     INSERT INTO Course_Faculty(CourseID, FacultyID)VALUES
                     ('C001','F001'),
                     ('C001','F002'),
                     ('C003','F001'),
                     ('C002','F004'),
                     ('C004','F004'),
                     ('C008','F007'),
                     ('C007','F007'),
                     ('C006','F006'),
                     ('C005','F006')
               
""")
connection.commit()
connection.close()